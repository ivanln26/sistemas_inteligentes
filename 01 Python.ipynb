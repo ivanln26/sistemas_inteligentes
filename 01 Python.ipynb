{
 "cells": [
  {
   "cell_type": "markdown",
   "id": "941e8954",
   "metadata": {},
   "source": [
    "# Ejercicios de Tipos de Datos Simples\n",
    "\n",
    "0. Escribir un programa que muestre por pantalla la cadena ¡Hola Mundo!."
   ]
  },
  {
   "cell_type": "code",
   "execution_count": 4,
   "id": "9bbc1fd7",
   "metadata": {},
   "outputs": [
    {
     "name": "stdout",
     "output_type": "stream",
     "text": [
      "Nombre de usuario: gfl\n",
      "¡Hola gfl!\n"
     ]
    }
   ],
   "source": [
    "nombre = input('Nombre de usuario: ')\n",
    "print(f'¡Hola {nombre}!')"
   ]
  },
  {
   "cell_type": "markdown",
   "id": "f0519f5c",
   "metadata": {},
   "source": [
    "1. Escribir un programa que pregunte el nombre del usuario en la consola y después de que el usuario lo introduzca muestre por pantalla la cadena ¡Hola <nombre>!, donde <nombre> es el nombre que el usuario haya introducido."
   ]
  },
  {
   "cell_type": "code",
   "execution_count": 5,
   "id": "65f9ab97",
   "metadata": {},
   "outputs": [
    {
     "name": "stdout",
     "output_type": "stream",
     "text": [
      "Número de horas trabajadas: 2\n",
      "Coste por hora: 5\n"
     ]
    },
    {
     "data": {
      "text/plain": [
       "10"
      ]
     },
     "execution_count": 5,
     "metadata": {},
     "output_type": "execute_result"
    }
   ],
   "source": [
    "n_horas = int(input('Número de horas trabajadas: '))\n",
    "coste_hora = int(input('Coste por hora: '))\n",
    "n_horas * coste_hora"
   ]
  },
  {
   "cell_type": "markdown",
   "id": "4ba0fe88",
   "metadata": {},
   "source": [
    "2. Escribir un programa que pregunte al usuario por el número de horas trabajadas y el coste por hora. Después debe mostrar por pantalla la paga que le corresponde."
   ]
  },
  {
   "cell_type": "code",
   "execution_count": 6,
   "id": "f5872dc8",
   "metadata": {},
   "outputs": [
    {
     "name": "stdout",
     "output_type": "stream",
     "text": [
      "Número entero positivo: 10\n"
     ]
    },
    {
     "data": {
      "text/plain": [
       "55.0"
      ]
     },
     "execution_count": 6,
     "metadata": {},
     "output_type": "execute_result"
    }
   ],
   "source": [
    "n = int(input('Número entero positivo: '))\n",
    "n * (n+1) / 2"
   ]
  },
  {
   "cell_type": "markdown",
   "id": "e0c3c4b8",
   "metadata": {},
   "source": [
    "3. Escribir un programa que lea un entero positivo, **n**, introducido por el usuario y después muestre en pantalla la suma de todos los enteros desde 1 hasta **n**. La suma de los **n** primeros enteros positivos puede ser calculada de la siguiente forma: $$ suma = \\frac{n(n+1)}{2}$$"
   ]
  },
  {
   "cell_type": "code",
   "execution_count": 9,
   "id": "b65acefb",
   "metadata": {},
   "outputs": [
    {
     "name": "stdout",
     "output_type": "stream",
     "text": [
      "Cantidad a invertir: 100\n",
      "Interés anual: 0.1\n",
      "Número de años: 5\n"
     ]
    },
    {
     "data": {
      "text/plain": [
       "161.05100000000004"
      ]
     },
     "execution_count": 9,
     "metadata": {},
     "output_type": "execute_result"
    }
   ],
   "source": [
    "cant_invertir = float(input('Cantidad a invertir: '))\n",
    "tna = float(input('Interés anual: '))\n",
    "n_anos = int(input('Número de años: '))\n",
    "cant_invertir * (1 + tna) ** n_anos"
   ]
  },
  {
   "cell_type": "markdown",
   "id": "37474619",
   "metadata": {},
   "source": [
    "4. Escribir un programa que pregunte al usuario una cantidad a invertir, el interés anual y el número de años, y muestre por pantalla el capital obtenido en la inversión."
   ]
  },
  {
   "cell_type": "code",
   "execution_count": null,
   "id": "aa8524c9",
   "metadata": {},
   "outputs": [],
   "source": [
    "n_payasos = int(input('Número de payasos: '))\n",
    "n_munecas = int(input('Número de muñecas: '))\n",
    "n_payasos * 112 + n_munecas * 75"
   ]
  },
  {
   "cell_type": "markdown",
   "id": "77758fb5",
   "metadata": {},
   "source": [
    "5. Una juguetería tiene mucho éxito en dos de sus productos: payasos y muñecas. Suele hacer venta por correo y la empresa de logística les cobra por peso de cada paquete así que deben calcular el peso de los payasos y muñecas que saldrán en cada paquete a demanda. Cada payaso pesa 112 g y cada muñeca 75 g. Escribir un programa que lea el número de payasos y muñecas vendidos en el último pedido y calcule el peso total del paquete que será enviado."
   ]
  },
  {
   "cell_type": "code",
   "execution_count": 1,
   "id": "556a77e6",
   "metadata": {},
   "outputs": [
    {
     "name": "stdout",
     "output_type": "stream",
     "text": [
      "Cantidad de dinero depositada en la cuenta de ahorros: 100\n",
      "1 año 140.0\n",
      "2 año 195.99999999999997\n",
      "3 año 274.3999999999999\n"
     ]
    }
   ],
   "source": [
    "cant_dinero = float(input('Cantidad de dinero depositada en la cuenta de ahorros: '))\n",
    "INTERES = 0.4\n",
    "for i in range(3):\n",
    "    print(f'{i+1} año:', cant_dinero * (1 + INTERES) ** (i + 1))"
   ]
  },
  {
   "cell_type": "markdown",
   "id": "9bd44acd",
   "metadata": {},
   "source": [
    "6. Imagina que acabas de abrir una nueva cuenta de ahorros que te ofrece el 4% de interés al año. Estos ahorros debido a intereses, que no se cobran hasta finales de año, se te añaden al balance final de tu cuenta de ahorros. Escribir un programa que comience leyendo la cantidad de dinero depositada en la cuenta de ahorros, introducida por el usuario. Después el programa debe calcular y mostrar por pantalla la cantidad de ahorros tras el primer, segundo y tercer años. Redondear cada cantidad a dos decimales."
   ]
  },
  {
   "cell_type": "code",
   "execution_count": 3,
   "id": "10766284",
   "metadata": {},
   "outputs": [
    {
     "name": "stdout",
     "output_type": "stream",
     "text": [
      "Número de barras de pan que no son del día: 100\n",
      "Precio habitual 3.49\n",
      "Descuento por pan no fresco 60.00% = 1.40\n",
      "Coste final total: 139.60\n"
     ]
    }
   ],
   "source": [
    "PRECIO_PAN = 3.49\n",
    "DESCUENTO = 0.60\n",
    "PRECIO_PAN_VIEJO = PRECIO_PAN * (1 - DESCUENTO)\n",
    "n_barras_viejas = int(input('Número de barras de pan que no son del día: '))\n",
    "print(f'Precio habitual', PRECIO_PAN)\n",
    "print(f'Descuento por pan no fresco {DESCUENTO*100:.2f}% = {PRECIO_PAN_VIEJO:.2f}')\n",
    "print(f'Coste final total: {n_barras_viejas * PRECIO_PAN_VIEJO:.2f}')"
   ]
  },
  {
   "cell_type": "markdown",
   "id": "6f64880a",
   "metadata": {},
   "source": [
    "7. Una panadería vende barras de pan a 3.49€ cada una. El pan que no es el día tiene un descuento del 60%. Escribir un programa que comience leyendo el número de barras vendidas que no son del día. Después el programa debe mostrar el precio habitual de una barra de pan, el descuento que se le hace por no ser fresca y el coste final total."
   ]
  },
  {
   "cell_type": "markdown",
   "id": "7746f986",
   "metadata": {},
   "source": [
    "# Ejercicios de Condicionales\n",
    "\n",
    "0. Escribir un programa que pregunte al usuario su edad y muestre por pantalla si es mayor de edad o no."
   ]
  },
  {
   "cell_type": "code",
   "execution_count": 5,
   "id": "1f904a9a",
   "metadata": {},
   "outputs": [
    {
     "name": "stdout",
     "output_type": "stream",
     "text": [
      "Edad: 18\n",
      "Es mayor de edad\n"
     ]
    }
   ],
   "source": [
    "edad = int(input('Edad: '))\n",
    "if edad >= 18:\n",
    "    print('Es mayor de edad')\n",
    "else:\n",
    "    print('Es menor de edad')"
   ]
  },
  {
   "cell_type": "markdown",
   "id": "ba028cf3",
   "metadata": {},
   "source": [
    "1. En una determinada empresa, sus empleados son evaluados al final de cada año. Los puntos que pueden obtener en la evaluación comienzan en 0.0 y pueden ir aumentando, traduciéndose en mejores beneficios. Los puntos que pueden conseguir los empleados pueden ser 0.0, 0.4, 0.6 o más, pero no valores intermedios entre las cifras mencionadas. A continuación se muestra una tabla con los niveles correspondientes a cada puntuación. La cantidad de dinero conseguida en cada nivel es de 2.400€ multiplicada por la puntuación del nivel.\n",
    "\n",
    "| Nivel | Puntuación |\n",
    "| --- | --- |\n",
    "| Inaceptable | 0.0 |\n",
    "| Aceptable | 0.4 |\n",
    "| Meritorio | 0.6 o más |\n",
    "\n",
    "Escribir un programa que lea la puntuación del usuario e indique su nivel de rendimiento, así como la cantidad de dinero que recibirá el usuario."
   ]
  },
  {
   "cell_type": "code",
   "execution_count": 10,
   "id": "46ba98d2",
   "metadata": {},
   "outputs": [
    {
     "name": "stdout",
     "output_type": "stream",
     "text": [
      "Puntuación del usuario: 0.39\n",
      "Nivel: Inaceptable\n",
      "Cantidad de dinero: 936.0\n"
     ]
    }
   ],
   "source": [
    "DINERO = 2_400\n",
    "puntuacion = float(input('Puntuación del usuario: '))\n",
    "nivel = 'Inaceptable'\n",
    "if puntuacion >= 0.4:\n",
    "    nivel = 'Aceptable'\n",
    "if puntuacion >= 0.6:\n",
    "    nivel = 'Meritorio'\n",
    "    \n",
    "print('Nivel:', nivel)\n",
    "print('Cantidad de dinero:', DINERO * puntuacion)"
   ]
  },
  {
   "cell_type": "markdown",
   "id": "5ee09454",
   "metadata": {},
   "source": [
    "2. Escribir un programa para una empresa que tiene salas de juegos para todas las edades y quiere calcular de forma automática el precio que debe cobrar a sus clientes por entrar. El programa debe preguntar al usuario la edad del cliente y mostrar el precio de la entrada. Si el cliente es menor de 4 años puede entrar gratis, si tiene entre 4 y 18 años debe pagar 5€ y si es mayor de 18 años, 10€."
   ]
  },
  {
   "cell_type": "code",
   "execution_count": 18,
   "id": "a0dc2457",
   "metadata": {},
   "outputs": [
    {
     "name": "stdout",
     "output_type": "stream",
     "text": [
      "Edad: 3\n",
      "Precio a pagar 0\n"
     ]
    }
   ],
   "source": [
    "edad = int(input('Edad: '))\n",
    "if edad > 18:\n",
    "    precio = 10\n",
    "elif edad >= 4:\n",
    "    precio = 5\n",
    "else:\n",
    "    precio = 0\n",
    "print('Precio a pagar', precio)"
   ]
  },
  {
   "cell_type": "markdown",
   "id": "6b1400f2",
   "metadata": {},
   "source": [
    "3. La pizzería Bella Napoli ofrece pizzas vegetarianas y no vegetarianas a sus clientes. Los ingredientes para cada tipo de pizza aparecen a continuación.\n",
    "\n",
    "Ingredientes vegetarianos: Pimiento y tofu.\n",
    "Ingredientes no vegetarianos: Peperoni, Jamón y Salmón.\n",
    "Escribir un programa que pregunte al usuario si quiere una pizza vegetariana o no, y en función de su respuesta le muestre un menú con los ingredientes disponibles para que elija. Solo se puede eligir un ingrediente además de la mozzarella y el tomate que están en todas la pizzas. Al final se debe mostrar por pantalla si la pizza elegida es vegetariana o no y todos los ingredientes que lleva."
   ]
  },
  {
   "cell_type": "code",
   "execution_count": 34,
   "id": "5e4bb747",
   "metadata": {},
   "outputs": [
    {
     "name": "stdout",
     "output_type": "stream",
     "text": [
      "Vegetariana? s/n n\n",
      "Pimiento? s/n n\n",
      "Tofu? s/n n\n",
      "Peperoni? s/n s\n",
      "La pizza: ['Mozzarella', 'Tomate', 'Peperoni'] no es vegetariana\n"
     ]
    }
   ],
   "source": [
    "INGREDIENTES_VEGETARIANOS = ['Pimiento', 'Tofu']\n",
    "INGREDIENTES = INGREDIENTES_VEGETARIANOS + ['Peperoni', 'Jamón', 'Salmón']\n",
    "\n",
    "c = input('Vegetariana? s/n ')\n",
    "vegetariana = False\n",
    "if c in ('s', 'S'):\n",
    "    vegetariana = True\n",
    "\n",
    "elegidos = ['Mozzarella', 'Tomate']\n",
    "ing = INGREDIENTES if not vegetariana else INGREDIENTES_VEGETARIANOS\n",
    "for i in ing:\n",
    "    if input(f'{i}? s/n ') in ('s', 'S'):\n",
    "        elegidos.append(i)\n",
    "        break\n",
    "\n",
    "vegetariana = True\n",
    "if len(elegidos) > 2 and elegidos[2] not in INGREDIENTES_VEGETARIANOS:\n",
    "    vegetariana = False\n",
    "\n",
    "print('La pizza:', elegidos, end=' ')\n",
    "if vegetariana:\n",
    "    print('es vegetariana')\n",
    "else:\n",
    "    print('no es vegetariana')"
   ]
  },
  {
   "cell_type": "markdown",
   "id": "6a9c0c7b",
   "metadata": {},
   "source": [
    "# Ejercicios de Bucles\n",
    "Realizar los ejercicios utilizando **for** y **while**\n",
    "\n",
    "0. Escribir un programa que pida al usuario una palabra y la muestre por pantalla 10 veces."
   ]
  },
  {
   "cell_type": "code",
   "execution_count": 35,
   "id": "9f57d8d9",
   "metadata": {},
   "outputs": [
    {
     "name": "stdout",
     "output_type": "stream",
     "text": [
      "Palabra: hola a todos\n",
      "hola a todos\n",
      "hola a todos\n",
      "hola a todos\n",
      "hola a todos\n",
      "hola a todos\n",
      "hola a todos\n",
      "hola a todos\n",
      "hola a todos\n",
      "hola a todos\n",
      "hola a todos\n"
     ]
    }
   ],
   "source": [
    "palabra = input('Palabra: ')\n",
    "for i in range(10):\n",
    "    print(palabra)"
   ]
  },
  {
   "cell_type": "markdown",
   "id": "6f41451c",
   "metadata": {},
   "source": [
    "1. Escribir un programa que muestre por pantalla la tabla de multiplicar del 1 al 10."
   ]
  },
  {
   "cell_type": "code",
   "execution_count": 38,
   "id": "67cd29cc",
   "metadata": {
    "scrolled": true
   },
   "outputs": [
    {
     "name": "stdout",
     "output_type": "stream",
     "text": [
      "1 * 1 = 1\n",
      "1 * 2 = 2\n",
      "1 * 3 = 3\n",
      "1 * 4 = 4\n",
      "1 * 5 = 5\n",
      "1 * 6 = 6\n",
      "1 * 7 = 7\n",
      "1 * 8 = 8\n",
      "1 * 9 = 9\n",
      "----------\n",
      "2 * 1 = 2\n",
      "2 * 2 = 4\n",
      "2 * 3 = 6\n",
      "2 * 4 = 8\n",
      "2 * 5 = 10\n",
      "2 * 6 = 12\n",
      "2 * 7 = 14\n",
      "2 * 8 = 16\n",
      "2 * 9 = 18\n",
      "----------\n",
      "3 * 1 = 3\n",
      "3 * 2 = 6\n",
      "3 * 3 = 9\n",
      "3 * 4 = 12\n",
      "3 * 5 = 15\n",
      "3 * 6 = 18\n",
      "3 * 7 = 21\n",
      "3 * 8 = 24\n",
      "3 * 9 = 27\n",
      "----------\n",
      "4 * 1 = 4\n",
      "4 * 2 = 8\n",
      "4 * 3 = 12\n",
      "4 * 4 = 16\n",
      "4 * 5 = 20\n",
      "4 * 6 = 24\n",
      "4 * 7 = 28\n",
      "4 * 8 = 32\n",
      "4 * 9 = 36\n",
      "----------\n",
      "5 * 1 = 5\n",
      "5 * 2 = 10\n",
      "5 * 3 = 15\n",
      "5 * 4 = 20\n",
      "5 * 5 = 25\n",
      "5 * 6 = 30\n",
      "5 * 7 = 35\n",
      "5 * 8 = 40\n",
      "5 * 9 = 45\n",
      "----------\n",
      "6 * 1 = 6\n",
      "6 * 2 = 12\n",
      "6 * 3 = 18\n",
      "6 * 4 = 24\n",
      "6 * 5 = 30\n",
      "6 * 6 = 36\n",
      "6 * 7 = 42\n",
      "6 * 8 = 48\n",
      "6 * 9 = 54\n",
      "----------\n",
      "7 * 1 = 7\n",
      "7 * 2 = 14\n",
      "7 * 3 = 21\n",
      "7 * 4 = 28\n",
      "7 * 5 = 35\n",
      "7 * 6 = 42\n",
      "7 * 7 = 49\n",
      "7 * 8 = 56\n",
      "7 * 9 = 63\n",
      "----------\n",
      "8 * 1 = 8\n",
      "8 * 2 = 16\n",
      "8 * 3 = 24\n",
      "8 * 4 = 32\n",
      "8 * 5 = 40\n",
      "8 * 6 = 48\n",
      "8 * 7 = 56\n",
      "8 * 8 = 64\n",
      "8 * 9 = 72\n",
      "----------\n",
      "9 * 1 = 9\n",
      "9 * 2 = 18\n",
      "9 * 3 = 27\n",
      "9 * 4 = 36\n",
      "9 * 5 = 45\n",
      "9 * 6 = 54\n",
      "9 * 7 = 63\n",
      "9 * 8 = 72\n",
      "9 * 9 = 81\n",
      "----------\n",
      "10 * 1 = 10\n",
      "10 * 2 = 20\n",
      "10 * 3 = 30\n",
      "10 * 4 = 40\n",
      "10 * 5 = 50\n",
      "10 * 6 = 60\n",
      "10 * 7 = 70\n",
      "10 * 8 = 80\n",
      "10 * 9 = 90\n",
      "----------\n"
     ]
    }
   ],
   "source": [
    "for i in range(1, 11):\n",
    "    for j in range(1, 10):\n",
    "        print(f'{i} * {j} = {i * j}')\n",
    "    print('-'*10)"
   ]
  },
  {
   "cell_type": "markdown",
   "id": "6dcbf56e",
   "metadata": {},
   "source": [
    "2. Escribir un programa en el que se pregunte al usuario por una frase y una letra, y muestre por pantalla el número de veces que aparece la letra en la frase."
   ]
  },
  {
   "cell_type": "code",
   "execution_count": 40,
   "id": "250caf3f",
   "metadata": {},
   "outputs": [
    {
     "name": "stdout",
     "output_type": "stream",
     "text": [
      "Frase: fran gomez land\n",
      "Letra: a\n",
      "Veces que aparece 2\n"
     ]
    }
   ],
   "source": [
    "frase = input('Frase: ')\n",
    "letra = input('Letra: ')\n",
    "count = 0\n",
    "for ch in frase:\n",
    "    if ch == letra:\n",
    "        count += 1\n",
    "print('Veces que aparece', count)"
   ]
  },
  {
   "cell_type": "markdown",
   "id": "437b4a42",
   "metadata": {},
   "source": [
    "3. Escribir un programa que muestre el eco de todo lo que el usuario introduzca hasta que el usuario escriba “salir” que terminará."
   ]
  },
  {
   "cell_type": "code",
   "execution_count": 42,
   "id": "768d8540",
   "metadata": {},
   "outputs": [
    {
     "name": "stdout",
     "output_type": "stream",
     "text": [
      "String: a\n",
      "a\n",
      "String: b\n",
      "b\n",
      "String: c\n",
      "c\n",
      "String: salir\n"
     ]
    }
   ],
   "source": [
    "while (s := input('String: ')) != 'salir':\n",
    "    print(s)"
   ]
  },
  {
   "cell_type": "markdown",
   "id": "21dc00dd",
   "metadata": {},
   "source": [
    "# Ejercicios de Listas y Tuplas\n",
    "\n",
    "1. Escribir un programa que almacene las asignaturas de un curso (por ejemplo Matemáticas, Física, Química, Historia y Lengua) en una lista y la muestre por pantalla."
   ]
  },
  {
   "cell_type": "code",
   "execution_count": 43,
   "id": "f9714c83",
   "metadata": {},
   "outputs": [
    {
     "name": "stdout",
     "output_type": "stream",
     "text": [
      "Matemáticas\n",
      "Física\n",
      "Química\n",
      "Historia\n",
      "Lengua\n"
     ]
    }
   ],
   "source": [
    "asignaturas = ('Matemáticas', 'Física', 'Química', 'Historia', 'Lengua')\n",
    "for asignatura in asignaturas:\n",
    "    print(asignatura)"
   ]
  },
  {
   "cell_type": "markdown",
   "id": "9dc8de65",
   "metadata": {},
   "source": [
    "2. Escribir un programa que almacene las asignaturas de un curso (por ejemplo Matemáticas, Física, Química, Historia y Lengua) en una lista y la muestre por pantalla el mensaje Yo estudio <asignatura>, donde <asignatura> es cada una de las asignaturas de la lista."
   ]
  },
  {
   "cell_type": "code",
   "execution_count": 44,
   "id": "7cff1152",
   "metadata": {},
   "outputs": [
    {
     "name": "stdout",
     "output_type": "stream",
     "text": [
      "Yo estudio Matemáticas\n",
      "Yo estudio Física\n",
      "Yo estudio Química\n",
      "Yo estudio Historia\n",
      "Yo estudio Lengua\n"
     ]
    }
   ],
   "source": [
    "asignaturas = ('Matemáticas', 'Física', 'Química', 'Historia', 'Lengua')\n",
    "for asignatura in asignaturas:\n",
    "    print('Yo estudio', asignatura)"
   ]
  },
  {
   "cell_type": "markdown",
   "id": "f3160dad",
   "metadata": {},
   "source": [
    "3. Escribir un programa que almacene las asignaturas de un curso (por ejemplo Matemáticas, Física, Química, Historia y Lengua) en una lista, pregunte al usuario la nota que ha sacado en cada asignatura, y después las muestre por pantalla con el mensaje En <asignatura> has sacado <nota> donde <asignatura> es cada una des las asignaturas de la lista y <nota> cada una de las correspondientes notas introducidas por el usuario."
   ]
  },
  {
   "cell_type": "code",
   "execution_count": 46,
   "id": "33826738",
   "metadata": {},
   "outputs": [
    {
     "name": "stdout",
     "output_type": "stream",
     "text": [
      "Nota en Matemáticas?: 10\n",
      "Nota en Física?: 9\n",
      "Nota en Química?: 8\n",
      "Nota en Historia?: 7\n",
      "Nota en Lengua?: 6\n",
      "En Matemáticas has sacado 10.0\n",
      "En Física has sacado 9.0\n",
      "En Química has sacado 8.0\n",
      "En Historia has sacado 7.0\n",
      "En Lengua has sacado 6.0\n"
     ]
    }
   ],
   "source": [
    "asignaturas = ('Matemáticas', 'Física', 'Química', 'Historia', 'Lengua')\n",
    "notas = []\n",
    "\n",
    "for asignatura in asignaturas:\n",
    "    nota = float(input(f'Nota en {asignatura}?: '))\n",
    "    notas.append(nota)\n",
    "\n",
    "for a, n in zip(asignaturas, notas):\n",
    "    print(f'En {a} has sacado {n:.2f}')"
   ]
  },
  {
   "cell_type": "markdown",
   "id": "dd72817d",
   "metadata": {},
   "source": [
    "4. Escribir un programa que pregunte al usuario los números ganadores de la lotería primitiva, los almacene en una lista y los muestre por pantalla ordenados de menor a mayor."
   ]
  },
  {
   "cell_type": "code",
   "execution_count": 48,
   "id": "625cb744",
   "metadata": {},
   "outputs": [
    {
     "name": "stdout",
     "output_type": "stream",
     "text": [
      "Número ganador: 10\n",
      "Número ganador: 5\n",
      "Número ganador: 3\n",
      "Número ganador: 7\n",
      "Número ganador: 8\n",
      "[3, 5, 7, 8, 10]\n"
     ]
    }
   ],
   "source": [
    "ganadores = []\n",
    "\n",
    "for i in range(5):\n",
    "    n = int(input('Número ganador: '))\n",
    "    ganadores.append(n)\n",
    "    \n",
    "ganadores.sort()\n",
    "\n",
    "print('Números ganadores', ganadores)"
   ]
  },
  {
   "cell_type": "markdown",
   "id": "f47179e6",
   "metadata": {},
   "source": [
    "5. Escribir un programa que almacene en una lista los números del 1 al 10 y los muestre por pantalla en orden inverso separados por comas."
   ]
  },
  {
   "cell_type": "code",
   "execution_count": 53,
   "id": "e6bc38f3",
   "metadata": {},
   "outputs": [
    {
     "data": {
      "text/plain": [
       "[10, 9, 8, 7, 6, 5, 4, 3, 2, 1]"
      ]
     },
     "execution_count": 53,
     "metadata": {},
     "output_type": "execute_result"
    }
   ],
   "source": [
    "numeros = [i for i in range(1, 11)]\n",
    "numeros.reverse()\n",
    "numeros"
   ]
  },
  {
   "cell_type": "markdown",
   "id": "4ca73a38",
   "metadata": {},
   "source": [
    "6. Escribir un programa que almacene las asignaturas de un curso (por ejemplo Matemáticas, Física, Química, Historia y Lengua) en una lista, pregunte al usuario la nota que ha sacado en cada asignatura y elimine de la lista las asignaturas aprobadas. Al final el programa debe mostrar por pantalla las asignaturas que el usuario tiene que repetir."
   ]
  },
  {
   "cell_type": "code",
   "execution_count": 55,
   "id": "4bc0f050",
   "metadata": {},
   "outputs": [
    {
     "name": "stdout",
     "output_type": "stream",
     "text": [
      "Nota en Matemáticas?: 10\n",
      "Nota en Física?: 8\n",
      "Nota en Química?: 4\n",
      "Nota en Historia?: 7\n",
      "Nota en Lengua?: 3\n",
      "Has reprobado Química tu nota es 4.00\n",
      "Has reprobado Lengua tu nota es 3.00\n"
     ]
    }
   ],
   "source": [
    "asignaturas = ('Matemáticas', 'Física', 'Química', 'Historia', 'Lengua')\n",
    "notas = []\n",
    "reprobadas = []\n",
    "\n",
    "for asignatura in asignaturas:\n",
    "    nota = float(input(f'Nota en {asignatura}?: '))\n",
    "    if nota >= 6:\n",
    "        continue\n",
    "    notas.append(nota)\n",
    "    reprobadas.append(asignatura)\n",
    "\n",
    "for a, n in zip(reprobadas, notas):\n",
    "    print(f'Has reprobado {a} tu nota es {n:.2f}')"
   ]
  },
  {
   "cell_type": "markdown",
   "id": "e422be26",
   "metadata": {},
   "source": [
    "7. Escribir un programa que almacene el abecedario en una lista, elimine de la lista las letras que ocupen posiciones múltiplos de 3, y muestre por pantalla la lista resultante."
   ]
  },
  {
   "cell_type": "code",
   "execution_count": 63,
   "id": "f99b3cab",
   "metadata": {},
   "outputs": [
    {
     "data": {
      "text/plain": [
       "['a', 'd', 'g', 'j', 'm', 'p', 's', 'v', 'y']"
      ]
     },
     "execution_count": 63,
     "metadata": {},
     "output_type": "execute_result"
    }
   ],
   "source": [
    "abecedario = [ch for ch in 'abcdefghijklmnopqrstuvwxyz']\n",
    "res = []\n",
    "for i, ch in enumerate(abecedario):\n",
    "    if i % 3 == 0:\n",
    "        res.append(ch)\n",
    "res"
   ]
  },
  {
   "cell_type": "markdown",
   "id": "7b85561a",
   "metadata": {},
   "source": [
    "8. Escribir un programa que pida al usuario una palabra y muestre por pantalla si es un palíndromo."
   ]
  },
  {
   "cell_type": "code",
   "execution_count": 81,
   "id": "afaba32d",
   "metadata": {},
   "outputs": [
    {
     "name": "stdout",
     "output_type": "stream",
     "text": [
      "Palabra: neuquen\n"
     ]
    },
    {
     "data": {
      "text/plain": [
       "True"
      ]
     },
     "execution_count": 81,
     "metadata": {},
     "output_type": "execute_result"
    }
   ],
   "source": [
    "palabra = input('Palabra: ')\n",
    "palabra == ''.join(reversed(palabra))"
   ]
  },
  {
   "cell_type": "markdown",
   "id": "9a53e8de",
   "metadata": {},
   "source": [
    "9. Escribir un programa que pida al usuario una palabra y muestre por pantalla el número de veces que contiene cada vocal."
   ]
  },
  {
   "cell_type": "code",
   "execution_count": 77,
   "id": "b1dfc2e7",
   "metadata": {},
   "outputs": [
    {
     "name": "stdout",
     "output_type": "stream",
     "text": [
      "Palabra: holaaaa\n",
      "a 4\n",
      "e 0\n",
      "i 0\n",
      "o 1\n",
      "u 0\n"
     ]
    }
   ],
   "source": [
    "palabra = input('Palabra: ')\n",
    "\n",
    "vocales = ['a', 'e', 'i', 'o', 'u']\n",
    "repeticiones = [0, 0, 0, 0, 0]\n",
    "\n",
    "for ch in palabra:\n",
    "    for i, v in enumerate(vocales):\n",
    "        if ch == v:\n",
    "            repeticiones[i] += 1\n",
    "\n",
    "for v, r in zip(vocales, repeticiones):\n",
    "    print(v, r)"
   ]
  },
  {
   "cell_type": "markdown",
   "id": "55cdccd9",
   "metadata": {},
   "source": [
    "10. Escribir un programa que almacene en una lista los siguientes precios, 50, 75, 46, 22, 80, 65, 8, y muestre por pantalla el menor y el mayor de los precios."
   ]
  },
  {
   "cell_type": "code",
   "execution_count": 78,
   "id": "9451e30c",
   "metadata": {},
   "outputs": [
    {
     "name": "stdout",
     "output_type": "stream",
     "text": [
      "Menor 8\n",
      "Mayor 80\n"
     ]
    }
   ],
   "source": [
    "precios = [50, 75, 46, 22, 80, 65, 8]\n",
    "print('Menor', min(precios))\n",
    "print('Mayor', max(precios))"
   ]
  },
  {
   "cell_type": "markdown",
   "id": "8032a13d",
   "metadata": {},
   "source": [
    "11. Escribir un programa que almacene los vectores (1,2,3) y (-1,0,2) en dos listas y muestre por pantalla su producto escalar."
   ]
  },
  {
   "cell_type": "code",
   "execution_count": 80,
   "id": "7f82d37a",
   "metadata": {},
   "outputs": [
    {
     "name": "stdout",
     "output_type": "stream",
     "text": [
      "[(1, -1), (2, 0), (3, 2)]\n"
     ]
    },
    {
     "data": {
      "text/plain": [
       "5"
      ]
     },
     "execution_count": 80,
     "metadata": {},
     "output_type": "execute_result"
    }
   ],
   "source": [
    "v = (1, 2, 3)\n",
    "u = (-1, 0, 2)\n",
    "res = 0\n",
    "\n",
    "for x, y in zip(u, v):\n",
    "    res += x * y\n",
    "res"
   ]
  },
  {
   "cell_type": "markdown",
   "id": "350472f1",
   "metadata": {},
   "source": [
    "12. Escribir un programa que almacene las matrices\n",
    "$$ A =\\left(\\begin{array}{cc} \n",
    "1 & 2 & 3\\\\\n",
    "4 & 5 & 6\n",
    "\\end{array}\\right)\n",
    "B = \\left(\\begin{array}{cc} \n",
    "-1 & 0\\\\ \n",
    "0 & 1\\\\ \n",
    "1 & 1\n",
    "\\end{array}\\right)\n",
    "$$\n",
    "en una lista y muestre por pantalla su producto.\n",
    "Nota: Para representar matrices mediante listas usar listas anidadas, representando cada vector fila en una lista."
   ]
  },
  {
   "cell_type": "code",
   "execution_count": 85,
   "id": "8d318963",
   "metadata": {},
   "outputs": [
    {
     "ename": "IndexError",
     "evalue": "list index out of range",
     "output_type": "error",
     "traceback": [
      "\u001b[0;31m---------------------------------------------------------------------------\u001b[0m",
      "\u001b[0;31mIndexError\u001b[0m                                Traceback (most recent call last)",
      "Cell \u001b[0;32mIn[85], line 17\u001b[0m\n\u001b[1;32m     15\u001b[0m \u001b[38;5;28;01mfor\u001b[39;00m row \u001b[38;5;129;01min\u001b[39;00m \u001b[38;5;28mrange\u001b[39m(\u001b[38;5;28mlen\u001b[39m(A)):\n\u001b[1;32m     16\u001b[0m     \u001b[38;5;28;01mfor\u001b[39;00m col \u001b[38;5;129;01min\u001b[39;00m \u001b[38;5;28mrange\u001b[39m(\u001b[38;5;28mlen\u001b[39m(A[row])):\n\u001b[0;32m---> 17\u001b[0m         \u001b[43mC\u001b[49m\u001b[43m[\u001b[49m\u001b[43mcol\u001b[49m\u001b[43m]\u001b[49m[row] \u001b[38;5;241m+\u001b[39m\u001b[38;5;241m=\u001b[39m A[row][col] \u001b[38;5;241m*\u001b[39m B[col][row]\n\u001b[1;32m     19\u001b[0m C\n",
      "\u001b[0;31mIndexError\u001b[0m: list index out of range"
     ]
    }
   ],
   "source": [
    "A = [\n",
    "    [1, 2, 3],\n",
    "    [4, 5, 6],\n",
    "]\n",
    "B = [\n",
    "    [-1, 0],\n",
    "    [0, 1],\n",
    "    [1, 1],\n",
    "]\n",
    "C = [\n",
    "    [0, 0],\n",
    "    [0, 0],\n",
    "] s\n",
    "        \n",
    "C"
   ]
  },
  {
   "cell_type": "markdown",
   "id": "d3871ff8",
   "metadata": {},
   "source": [
    "13. Escribir un programa que pregunte por una muestra de números, separados por comas, los guarde en una lista y muestre por pantalla su media y desviación típica."
   ]
  },
  {
   "cell_type": "code",
   "execution_count": 91,
   "id": "2020b0f3",
   "metadata": {},
   "outputs": [
    {
     "name": "stdout",
     "output_type": "stream",
     "text": [
      "Lista de numeros (separados por coma): 1,2,3\n",
      "2.0 0.816496580927726\n"
     ]
    }
   ],
   "source": [
    "from math import sqrt\n",
    "numeros = input('Lista de numeros (separados por coma): ')\n",
    "numeros = [float(n) for n in numeros.split(',')]\n",
    "media = sum(numeros) / len(numeros)\n",
    "\n",
    "numerador = 0\n",
    "for n in numeros:\n",
    "    numerador += (n - media) ** 2\n",
    "o = sqrt(numerador / len(numeros))\n",
    "print(media, o)"
   ]
  },
  {
   "cell_type": "markdown",
   "id": "27fa0945",
   "metadata": {},
   "source": [
    "# Ejercicios de Diccionarios\n",
    "\n",
    "1. Escribir un programa que guarde en una variable el diccionario `{'Euro':'€', 'Dollar':'$', 'Yen':'¥'}`, pregunte al usuario por una divisa y muestre su símbolo o un mensaje de aviso si la divisa no está en el diccionario."
   ]
  },
  {
   "cell_type": "code",
   "execution_count": 93,
   "id": "00d96945",
   "metadata": {},
   "outputs": [
    {
     "name": "stdout",
     "output_type": "stream",
     "text": [
      "Divisa: Euro\n"
     ]
    },
    {
     "data": {
      "text/plain": [
       "True"
      ]
     },
     "execution_count": 93,
     "metadata": {},
     "output_type": "execute_result"
    }
   ],
   "source": [
    "divisas = {'Euro':'€', 'Dollar':'$', 'Yen':'¥'}\n",
    "input('Divisa: ') in divisas"
   ]
  },
  {
   "cell_type": "markdown",
   "id": "ec3bc6d1",
   "metadata": {},
   "source": [
    "2. Escribir un programa que guarde en un diccionario los precios de las frutas de la tabla, pregunte al usuario por una fruta, un número de kilos y muestre por pantalla el precio de ese número de kilos de fruta. Si la fruta no está en el diccionario debe mostrar un mensaje informando de ello.\n",
    "\n",
    "| Fruta | Precio |\n",
    "| --- | --- |\n",
    "| Plátano | 1.35 |\n",
    "| Manzana | 0.80 |\n",
    "| Pera | 0.85 |\n",
    "| Naranja | 0.70 |"
   ]
  },
  {
   "cell_type": "code",
   "execution_count": 96,
   "id": "86ae23a6",
   "metadata": {},
   "outputs": [
    {
     "name": "stdout",
     "output_type": "stream",
     "text": [
      "Fruta: Manzana\n",
      "Kilos: 1\n",
      "0.8\n"
     ]
    }
   ],
   "source": [
    "frutas = {\n",
    "    'Plátano': 1.35,\n",
    "    'Manzana': 0.80,\n",
    "    'Pera': 0.85,\n",
    "    'Naranja': 0.70,\n",
    "}\n",
    "fruta = input('Fruta: ')\n",
    "if fruta in frutas:\n",
    "    kilos = float(input('Kilos: '))\n",
    "    precio = frutas[fruta] * kilos\n",
    "    print(precio)\n",
    "else:\n",
    "    print(f'{fruta} no se encuentra en frutas')"
   ]
  },
  {
   "cell_type": "markdown",
   "id": "6b9f8757",
   "metadata": {},
   "source": [
    "3. Escribir un programa que cree un diccionario vacío y lo vaya llenado con información sobre una persona (por ejemplo nombre, edad, sexo, teléfono, correo electrónico, etc.) que se le pida al usuario. Cada vez que se añada un nuevo dato debe imprimirse el contenido del diccionario."
   ]
  },
  {
   "cell_type": "code",
   "execution_count": 97,
   "id": "a70a7fdb",
   "metadata": {},
   "outputs": [
    {
     "name": "stdout",
     "output_type": "stream",
     "text": [
      "Nombre: hola\n",
      "{'nombre': 'hola'}\n",
      "Email: asd@mail.com\n",
      "{'nombre': 'hola', 'email': 'asd@mail.com'}\n"
     ]
    }
   ],
   "source": [
    "d = {}\n",
    "fields = ('nombre', 'email')\n",
    "for f in fields:\n",
    "    d[f] = input(f'{f.title()}: ')\n",
    "    print(d)"
   ]
  },
  {
   "cell_type": "markdown",
   "id": "846125b8",
   "metadata": {},
   "source": [
    "4. Escribir un programa que gestione las facturas pendientes de cobro de una empresa. Las facturas se almacenarán en un diccionario donde la clave de cada factura será el número de factura y el valor el coste de la factura. El programa debe preguntar al usuario si quiere añadir una nueva factura, pagar una existente o terminar. Si desea añadir una nueva factura se preguntará por el número de factura y su coste y se añadirá al diccionario. Si se desea pagar una factura se preguntará por el número de factura y se eliminará del diccionario. Después de cada operación el programa debe mostrar por pantalla la cantidad cobrada hasta el momento y la cantidad pendiente de cobro."
   ]
  },
  {
   "cell_type": "code",
   "execution_count": 101,
   "id": "de7d4fed",
   "metadata": {},
   "outputs": [
    {
     "name": "stdout",
     "output_type": "stream",
     "text": [
      "{}\n",
      "1. Nueva Factura\n",
      "2. Pagar Factura\n",
      "0. Salir\n",
      "> 0\n"
     ]
    }
   ],
   "source": [
    "facturas = {}\n",
    "\n",
    "while True:\n",
    "    print(facturas)\n",
    "    print('1. Nueva Factura')\n",
    "    print('2. Pagar Factura')\n",
    "    print('0. Salir')\n",
    "    opt = int(input('> '))\n",
    "    if opt == 1:\n",
    "        num = int(input('Número de factura: '))\n",
    "        coste = float(input('Coste: '))\n",
    "        facturas[num] = coste\n",
    "    elif opt == 2:\n",
    "        num = int(input('Número de factura: '))\n",
    "        if num in facturas:\n",
    "            del facturas[num]\n",
    "    else:\n",
    "        break"
   ]
  },
  {
   "cell_type": "markdown",
   "id": "375ac7fc",
   "metadata": {},
   "source": [
    "5. El directorio de los clientes de una empresa está organizado en una cadena de texto como la de más abajo, donde cada línea contiene la información del nombre, email, teléfono, nif, y el descuento que se le aplica. Las líneas se separan con el carácter de cambio de línea \\n y la primera línea contiene los nombres de los campos con la información contenida en el directorio.\n",
    "\n",
    "`\"nif;nombre;email;teléfono;descuento\\n01234567L;Luis González;luisgonzalez@mail.com;656343576;12.5\\n71476342J;Macarena Ramírez;macarena@mail.com;692839321;8\\n63823376M;Juan José Martínez;juanjo@mail.com;664888233;5.2\\n98376547F;Carmen Sánchez;carmen@mail.com;667677855;15.7\"`\n",
    "\n",
    "Escribir un programa que genere un diccionario con la información del directorio, donde cada elemento corresponda a un cliente y tenga por clave su nif y por valor otro diccionario con el resto de la información del cliente. Los diccionarios con la información de cada cliente tendrán como claves los nombres de los campos y como valores la información de cada cliente correspondientes a los campos. Es decir, un diccionario como el siguiente\n",
    "\n",
    "`{'01234567L': {'nombre': 'Luis González', 'email': 'luisgonzalez@mail.com', 'teléfono': '656343576', 'descuento': 12.5}, '71476342J': {'nombre': 'Macarena Ramírez', 'email': 'macarena@mail.com', 'teléfono': '692839321', 'descuento': 8.0}, '63823376M': {'nombre': 'Juan José Martínez', 'email': 'juanjo@mail.com', 'teléfono': '664888233', 'descuento': 5.2}, '98376547F': {'nombre': 'Carmen Sánchez', 'email': 'carmen@mail.com', 'teléfono': '667677855', 'descuento': 15.7}}`"
   ]
  },
  {
   "cell_type": "code",
   "execution_count": 112,
   "id": "3467460d",
   "metadata": {},
   "outputs": [
    {
     "data": {
      "text/plain": [
       "{'01234567L': {'nombre': 'Luis González',\n",
       "  'email': 'luisgonzalez@mail.com',\n",
       "  'teléfono': '656343576',\n",
       "  'descuento': '12.5'},\n",
       " '71476342J': {'nombre': 'Macarena Ramírez',\n",
       "  'email': 'macarena@mail.com',\n",
       "  'teléfono': '692839321',\n",
       "  'descuento': '8'},\n",
       " '63823376M': {'nombre': 'Juan José Martínez',\n",
       "  'email': 'juanjo@mail.com',\n",
       "  'teléfono': '664888233',\n",
       "  'descuento': '5.2'},\n",
       " '98376547F': {'nombre': 'Carmen Sánchez',\n",
       "  'email': 'carmen@mail.com',\n",
       "  'teléfono': '667677855',\n",
       "  'descuento': '15.7'}}"
      ]
     },
     "execution_count": 112,
     "metadata": {},
     "output_type": "execute_result"
    }
   ],
   "source": [
    "csv = \"nif;nombre;email;teléfono;descuento\\n01234567L;Luis González;luisgonzalez@mail.com;656343576;12.5\\n71476342J;Macarena Ramírez;macarena@mail.com;692839321;8\\n63823376M;Juan José Martínez;juanjo@mail.com;664888233;5.2\\n98376547F;Carmen Sánchez;carmen@mail.com;667677855;15.7\"\n",
    "rows = csv.split('\\n')\n",
    "header = rows[0].split(';')\n",
    "d = {}\n",
    "for row in rows[1:]:\n",
    "    nif = None\n",
    "    for j, col in enumerate(row.split(';')):\n",
    "        if j == 0:\n",
    "            nif = col\n",
    "            d[nif] = {}\n",
    "            continue\n",
    "        d[nif][header[j]] = col\n",
    "d"
   ]
  },
  {
   "cell_type": "markdown",
   "id": "63e74656",
   "metadata": {},
   "source": [
    "# Ejercicios de Funciones\n",
    "1. Escribir una función a la que se le pase una cadena `<nombre>` y muestre por pantalla el saludo ¡hola `<nombre>`!."
   ]
  },
  {
   "cell_type": "code",
   "execution_count": 114,
   "id": "2dd2c638",
   "metadata": {},
   "outputs": [
    {
     "data": {
      "text/plain": [
       "'¡Hola FGL!'"
      ]
     },
     "execution_count": 114,
     "metadata": {},
     "output_type": "execute_result"
    }
   ],
   "source": [
    "def saludo(nombre: str) -> str:\n",
    "    return f'¡Hola {nombre}!'\n",
    "\n",
    "\n",
    "saludo('FGL')"
   ]
  },
  {
   "cell_type": "markdown",
   "id": "722b0a26",
   "metadata": {},
   "source": [
    "2. Escribir una función que reciba un número entero positivo y devuelva su factorial."
   ]
  },
  {
   "cell_type": "code",
   "execution_count": 121,
   "id": "4267cf24",
   "metadata": {},
   "outputs": [
    {
     "data": {
      "text/plain": [
       "120"
      ]
     },
     "execution_count": 121,
     "metadata": {},
     "output_type": "execute_result"
    }
   ],
   "source": [
    "def fac(n: int) -> int:\n",
    "    if n <= 0:\n",
    "        return 1\n",
    "    return n * fac(n - 1)\n",
    "\n",
    "\n",
    "fac(5)"
   ]
  },
  {
   "cell_type": "markdown",
   "id": "47d396f8",
   "metadata": {},
   "source": [
    "3. Escribir una función que calcule el total de una factura tras aplicarle el IVA. La función debe recibir la cantidad sin IVA y el porcentaje de IVA a aplicar, y devolver el total de la factura. Si se invoca la función sin pasarle el porcentaje de IVA, deberá aplicar un 21%."
   ]
  },
  {
   "cell_type": "code",
   "execution_count": 124,
   "id": "5b1d3403",
   "metadata": {},
   "outputs": [
    {
     "name": "stdout",
     "output_type": "stream",
     "text": [
      "121.0\n",
      "140.0\n"
     ]
    }
   ],
   "source": [
    "def total(valor: float, iva: float = 0.21) -> float:\n",
    "    return valor * (1 + iva)\n",
    "\n",
    "\n",
    "print(total(100))\n",
    "print(total(100, 0.4))"
   ]
  },
  {
   "cell_type": "markdown",
   "id": "2adda5aa",
   "metadata": {},
   "source": [
    "4. Escribir una función que calcule el área de un círculo y otra que calcule el volumen de un cilindro usando la primera función."
   ]
  },
  {
   "cell_type": "code",
   "execution_count": 129,
   "id": "1ea2788a",
   "metadata": {},
   "outputs": [
    {
     "data": {
      "text/plain": [
       "6.283185307179586"
      ]
     },
     "execution_count": 129,
     "metadata": {},
     "output_type": "execute_result"
    }
   ],
   "source": [
    "from math import pi\n",
    "\n",
    "\n",
    "def area(radio: float) -> float:\n",
    "    return pi * radio ** 2\n",
    "\n",
    "\n",
    "def volumen(radio: float, altura: float) -> float:\n",
    "    return area(radio) * altura\n",
    "\n",
    "\n",
    "volumen(1, 2)"
   ]
  },
  {
   "cell_type": "markdown",
   "id": "8399cb23",
   "metadata": {},
   "source": [
    "5. Escribir una función que reciba una muestra de números en una lista y devuelva su media."
   ]
  },
  {
   "cell_type": "code",
   "execution_count": 131,
   "id": "cf3fa76b",
   "metadata": {},
   "outputs": [
    {
     "data": {
      "text/plain": [
       "3.5"
      ]
     },
     "execution_count": 131,
     "metadata": {},
     "output_type": "execute_result"
    }
   ],
   "source": [
    "def media(nums: list[float]) -> float:\n",
    "    return sum(nums) / len(nums)\n",
    "\n",
    "\n",
    "media([1, 2, 3, 4, 5, 6])"
   ]
  },
  {
   "cell_type": "markdown",
   "id": "0549988a",
   "metadata": {},
   "source": [
    "6. Escribir una función que reciba una muestra de números en una lista y devuelva otra lista con sus cuadrados."
   ]
  },
  {
   "cell_type": "code",
   "execution_count": 132,
   "id": "296a235c",
   "metadata": {},
   "outputs": [
    {
     "data": {
      "text/plain": [
       "[0, 1, 4, 9, 16, 25, 36, 49, 64, 81]"
      ]
     },
     "execution_count": 132,
     "metadata": {},
     "output_type": "execute_result"
    }
   ],
   "source": [
    "def cuadrados(nums: list[float]) -> list[float]:\n",
    "    return [n ** 2 for n in nums]\n",
    "\n",
    "\n",
    "cuadrados([i for i in range(10)])"
   ]
  },
  {
   "cell_type": "markdown",
   "id": "957f415a",
   "metadata": {},
   "source": [
    "7. Escribir una función que reciba una muestra de números en una lista y devuelva un diccionario con su media, varianza y desviación típica."
   ]
  },
  {
   "cell_type": "code",
   "execution_count": 134,
   "id": "7d18dd65",
   "metadata": {},
   "outputs": [
    {
     "data": {
      "text/plain": [
       "{'media': 3.5,\n",
       " 'varianza': 2.9166666666666665,\n",
       " 'desvio estandar': 1.707825127659933}"
      ]
     },
     "execution_count": 134,
     "metadata": {},
     "output_type": "execute_result"
    }
   ],
   "source": [
    "from math import sqrt\n",
    "\n",
    "\n",
    "def stats(nums: list[float]) -> dict[str, float]:\n",
    "    media = sum(nums) / len(nums)\n",
    "    numerador = 0\n",
    "    for n in nums:\n",
    "        numerador += (n - media) ** 2\n",
    "    varianza = numerador / len(nums)\n",
    "    o = sqrt(varianza)\n",
    "    return {\n",
    "        'media': media,\n",
    "        'varianza': varianza,\n",
    "        'desvio estandar': o,\n",
    "    }\n",
    "\n",
    "\n",
    "stats([1, 2, 3, 4, 5, 6])"
   ]
  },
  {
   "cell_type": "markdown",
   "id": "a398d9f2",
   "metadata": {},
   "source": [
    "8. Escribir una función que calcule el máximo común divisor de dos números y otra que calcule el mínimo común múltiplo."
   ]
  },
  {
   "cell_type": "code",
   "execution_count": null,
   "id": "5d4145e8",
   "metadata": {},
   "outputs": [],
   "source": []
  },
  {
   "cell_type": "markdown",
   "id": "dd92251a",
   "metadata": {},
   "source": [
    "9. Escribir una función que convierta un número decimal en binario y otra que convierta un número binario en decimal."
   ]
  },
  {
   "cell_type": "code",
   "execution_count": 25,
   "id": "65361ad8",
   "metadata": {},
   "outputs": [
    {
     "name": "stdout",
     "output_type": "stream",
     "text": [
      "1100100\n",
      "100\n"
     ]
    }
   ],
   "source": [
    "def to_bin(n: int) -> str:\n",
    "    res = ''\n",
    "    while n > 0:\n",
    "        resto = n % 2\n",
    "        res += str(resto)\n",
    "        n >>= 1\n",
    "    return ''.join(reversed(res))\n",
    "\n",
    "\n",
    "def to_dec(n: str) -> int:\n",
    "    res = 0\n",
    "    for i, ch in enumerate(reversed(n)):\n",
    "        res += 2 ** i if ch == '1' else 0\n",
    "    return res\n",
    "\n",
    "\n",
    "print(to_bin(100))\n",
    "print(to_dec('1100100'))"
   ]
  },
  {
   "cell_type": "markdown",
   "id": "31f0a4da",
   "metadata": {},
   "source": [
    "10. Escribir un programa que reciba una cadena de caracteres y devuelva un diccionario con cada palabra que contiene y su frecuencia. Escribir otra función que reciba el diccionario generado con la función anterior y devuelva una tupla con la palabra más repetida y su frecuencia."
   ]
  },
  {
   "cell_type": "code",
   "execution_count": 31,
   "id": "01eb5cd3",
   "metadata": {},
   "outputs": [
    {
     "name": "stdout",
     "output_type": "stream",
     "text": [
      "Cadena: hola a hola a todos\n",
      "{'hola': 2, 'a': 2, 'todos': 1}\n"
     ]
    },
    {
     "data": {
      "text/plain": [
       "('hola', 2)"
      ]
     },
     "execution_count": 31,
     "metadata": {},
     "output_type": "execute_result"
    }
   ],
   "source": [
    "def frecuencia(s: str) -> dict[str, int]:\n",
    "    res = {}\n",
    "    for palabra in s.split(' '):\n",
    "        if palabra not in res:\n",
    "            res[palabra] = 1\n",
    "            continue\n",
    "        res[palabra] += 1\n",
    "    return res\n",
    "\n",
    "\n",
    "def maxima_frec(frecuencias: dict[str, int]) -> tuple[str, int]:\n",
    "    maximo = 0\n",
    "    palabra = ''\n",
    "    for w, f in frecuencias.items():\n",
    "        if f > maximo:\n",
    "            maximo = f\n",
    "            palabra = w\n",
    "    return palabra, maximo\n",
    "\n",
    "        \n",
    "s = input('Cadena: ')\n",
    "frecuencias = frecuencia(s)\n",
    "print(frecuencias)\n",
    "maxima_frec(frecuencias)"
   ]
  }
 ],
 "metadata": {
  "kernelspec": {
   "display_name": "Python 3 (ipykernel)",
   "language": "python",
   "name": "python3"
  },
  "language_info": {
   "codemirror_mode": {
    "name": "ipython",
    "version": 3
   },
   "file_extension": ".py",
   "mimetype": "text/x-python",
   "name": "python",
   "nbconvert_exporter": "python",
   "pygments_lexer": "ipython3",
   "version": "3.11.2"
  }
 },
 "nbformat": 4,
 "nbformat_minor": 5
}
